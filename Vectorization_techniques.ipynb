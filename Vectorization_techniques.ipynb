{
  "nbformat": 4,
  "nbformat_minor": 0,
  "metadata": {
    "colab": {
      "provenance": []
    },
    "kernelspec": {
      "name": "python3",
      "display_name": "Python 3"
    },
    "language_info": {
      "name": "python"
    }
  },
  "cells": [
    {
      "cell_type": "code",
      "source": [
        "!pip install Keras-Preprocessing\n",
        "!!pip install keras-tuner --upgrade"
      ],
      "metadata": {
        "colab": {
          "base_uri": "https://localhost:8080/"
        },
        "id": "YPRILX2rqIEr",
        "outputId": "63a0497d-75fc-48ac-cd63-ee60329f393e"
      },
      "execution_count": null,
      "outputs": [
        {
          "output_type": "stream",
          "name": "stdout",
          "text": [
            "Requirement already satisfied: Keras-Preprocessing in /usr/local/lib/python3.10/dist-packages (1.1.2)\n",
            "Requirement already satisfied: numpy>=1.9.1 in /usr/local/lib/python3.10/dist-packages (from Keras-Preprocessing) (1.23.5)\n",
            "Requirement already satisfied: six>=1.9.0 in /usr/local/lib/python3.10/dist-packages (from Keras-Preprocessing) (1.16.0)\n"
          ]
        },
        {
          "output_type": "execute_result",
          "data": {
            "text/plain": [
              "['Collecting keras-tuner',\n",
              " '  Downloading keras_tuner-1.4.6-py3-none-any.whl (128 kB)',\n",
              " '\\x1b[?25l     \\x1b[90m━━━━━━━━━━━━━━━━━━━━━━━━━━━━━━━━━━━━━━━━\\x1b[0m \\x1b[32m0.0/128.9 kB\\x1b[0m \\x1b[31m?\\x1b[0m eta \\x1b[36m-:--:--\\x1b[0m',\n",
              " '\\x1b[2K     \\x1b[91m━━━\\x1b[0m\\x1b[90m╺\\x1b[0m\\x1b[90m━━━━━━━━━━━━━━━━━━━━━━━━━━━━━━━━━━━━\\x1b[0m \\x1b[32m10.2/128.9 kB\\x1b[0m \\x1b[31m?\\x1b[0m eta \\x1b[36m-:--:--\\x1b[0m',\n",
              " '\\x1b[2K     \\x1b[91m━━━━━━━━━━━━\\x1b[0m\\x1b[91m╸\\x1b[0m\\x1b[90m━━━━━━━━━━━━━━━━━━━━━━━━━━━\\x1b[0m \\x1b[32m41.0/128.9 kB\\x1b[0m \\x1b[31m526.3 kB/s\\x1b[0m eta \\x1b[36m0:00:01\\x1b[0m',\n",
              " '\\x1b[2K     \\x1b[91m━━━━━━━━━━━━━━━━━━━━━━━━━━━━\\x1b[0m\\x1b[91m╸\\x1b[0m\\x1b[90m━━━━━━━━━━━\\x1b[0m \\x1b[32m92.2/128.9 kB\\x1b[0m \\x1b[31m892.2 kB/s\\x1b[0m eta \\x1b[36m0:00:01\\x1b[0m',\n",
              " '\\x1b[2K     \\x1b[90m━━━━━━━━━━━━━━━━━━━━━━━━━━━━━━━━━━━━━━━━\\x1b[0m \\x1b[32m128.9/128.9 kB\\x1b[0m \\x1b[31m1.1 MB/s\\x1b[0m eta \\x1b[36m0:00:00\\x1b[0m',\n",
              " '\\x1b[?25hRequirement already satisfied: keras in /usr/local/lib/python3.10/dist-packages (from keras-tuner) (2.14.0)',\n",
              " 'Requirement already satisfied: packaging in /usr/local/lib/python3.10/dist-packages (from keras-tuner) (23.2)',\n",
              " 'Requirement already satisfied: requests in /usr/local/lib/python3.10/dist-packages (from keras-tuner) (2.31.0)',\n",
              " 'Collecting kt-legacy (from keras-tuner)',\n",
              " '  Downloading kt_legacy-1.0.5-py3-none-any.whl (9.6 kB)',\n",
              " 'Requirement already satisfied: charset-normalizer<4,>=2 in /usr/local/lib/python3.10/dist-packages (from requests->keras-tuner) (3.3.2)',\n",
              " 'Requirement already satisfied: idna<4,>=2.5 in /usr/local/lib/python3.10/dist-packages (from requests->keras-tuner) (3.4)',\n",
              " 'Requirement already satisfied: urllib3<3,>=1.21.1 in /usr/local/lib/python3.10/dist-packages (from requests->keras-tuner) (2.0.7)',\n",
              " 'Requirement already satisfied: certifi>=2017.4.17 in /usr/local/lib/python3.10/dist-packages (from requests->keras-tuner) (2023.7.22)',\n",
              " 'Installing collected packages: kt-legacy, keras-tuner',\n",
              " 'Successfully installed keras-tuner-1.4.6 kt-legacy-1.0.5']"
            ]
          },
          "metadata": {},
          "execution_count": 7
        }
      ]
    },
    {
      "cell_type": "code",
      "execution_count": 30,
      "metadata": {
        "id": "zOtSS2YInrIU"
      },
      "outputs": [],
      "source": [
        "# import libraries\n",
        "import pandas as pd\n",
        "import numpy as np\n",
        "\n",
        "import nltk\n",
        "from nltk.tokenize import word_tokenize\n",
        "from nltk.corpus import stopwords\n",
        "from nltk.stem import SnowballStemmer\n",
        "import string\n",
        "\n",
        "from sklearn.feature_extraction.text import CountVectorizer, TfidfVectorizer\n",
        "from gensim.models import Word2Vec"
      ]
    },
    {
      "cell_type": "code",
      "source": [
        "# import data and visualize the first 5 rows\n",
        "poems_df = pd.read_csv('https://raw.githubusercontent.com/BhavanishDhamnaskar/poem_d/main/Poem_classification%20-%20train_data.csv')\n",
        "poems_df.head()"
      ],
      "metadata": {
        "colab": {
          "base_uri": "https://localhost:8080/",
          "height": 206
        },
        "id": "lCIBrOKapwk9",
        "outputId": "fba7cf35-d9af-475e-f434-63b91ba7daca"
      },
      "execution_count": 32,
      "outputs": [
        {
          "output_type": "execute_result",
          "data": {
            "text/plain": [
              "   Genre                                               Poem\n",
              "0  Music                                                NaN\n",
              "1  Music                In the thick brushthey spend the...\n",
              "2  Music     Storms are generous.                       ...\n",
              "3  Music   —After Ana Mendieta Did you carry around the ...\n",
              "4  Music   for Aja Sherrard at 20The portent may itself ..."
            ],
            "text/html": [
              "\n",
              "  <div id=\"df-9417e493-df8c-405b-bdfd-a730057bec3a\" class=\"colab-df-container\">\n",
              "    <div>\n",
              "<style scoped>\n",
              "    .dataframe tbody tr th:only-of-type {\n",
              "        vertical-align: middle;\n",
              "    }\n",
              "\n",
              "    .dataframe tbody tr th {\n",
              "        vertical-align: top;\n",
              "    }\n",
              "\n",
              "    .dataframe thead th {\n",
              "        text-align: right;\n",
              "    }\n",
              "</style>\n",
              "<table border=\"1\" class=\"dataframe\">\n",
              "  <thead>\n",
              "    <tr style=\"text-align: right;\">\n",
              "      <th></th>\n",
              "      <th>Genre</th>\n",
              "      <th>Poem</th>\n",
              "    </tr>\n",
              "  </thead>\n",
              "  <tbody>\n",
              "    <tr>\n",
              "      <th>0</th>\n",
              "      <td>Music</td>\n",
              "      <td>NaN</td>\n",
              "    </tr>\n",
              "    <tr>\n",
              "      <th>1</th>\n",
              "      <td>Music</td>\n",
              "      <td>In the thick brushthey spend the...</td>\n",
              "    </tr>\n",
              "    <tr>\n",
              "      <th>2</th>\n",
              "      <td>Music</td>\n",
              "      <td>Storms are generous.                       ...</td>\n",
              "    </tr>\n",
              "    <tr>\n",
              "      <th>3</th>\n",
              "      <td>Music</td>\n",
              "      <td>—After Ana Mendieta Did you carry around the ...</td>\n",
              "    </tr>\n",
              "    <tr>\n",
              "      <th>4</th>\n",
              "      <td>Music</td>\n",
              "      <td>for Aja Sherrard at 20The portent may itself ...</td>\n",
              "    </tr>\n",
              "  </tbody>\n",
              "</table>\n",
              "</div>\n",
              "    <div class=\"colab-df-buttons\">\n",
              "\n",
              "  <div class=\"colab-df-container\">\n",
              "    <button class=\"colab-df-convert\" onclick=\"convertToInteractive('df-9417e493-df8c-405b-bdfd-a730057bec3a')\"\n",
              "            title=\"Convert this dataframe to an interactive table.\"\n",
              "            style=\"display:none;\">\n",
              "\n",
              "  <svg xmlns=\"http://www.w3.org/2000/svg\" height=\"24px\" viewBox=\"0 -960 960 960\">\n",
              "    <path d=\"M120-120v-720h720v720H120Zm60-500h600v-160H180v160Zm220 220h160v-160H400v160Zm0 220h160v-160H400v160ZM180-400h160v-160H180v160Zm440 0h160v-160H620v160ZM180-180h160v-160H180v160Zm440 0h160v-160H620v160Z\"/>\n",
              "  </svg>\n",
              "    </button>\n",
              "\n",
              "  <style>\n",
              "    .colab-df-container {\n",
              "      display:flex;\n",
              "      gap: 12px;\n",
              "    }\n",
              "\n",
              "    .colab-df-convert {\n",
              "      background-color: #E8F0FE;\n",
              "      border: none;\n",
              "      border-radius: 50%;\n",
              "      cursor: pointer;\n",
              "      display: none;\n",
              "      fill: #1967D2;\n",
              "      height: 32px;\n",
              "      padding: 0 0 0 0;\n",
              "      width: 32px;\n",
              "    }\n",
              "\n",
              "    .colab-df-convert:hover {\n",
              "      background-color: #E2EBFA;\n",
              "      box-shadow: 0px 1px 2px rgba(60, 64, 67, 0.3), 0px 1px 3px 1px rgba(60, 64, 67, 0.15);\n",
              "      fill: #174EA6;\n",
              "    }\n",
              "\n",
              "    .colab-df-buttons div {\n",
              "      margin-bottom: 4px;\n",
              "    }\n",
              "\n",
              "    [theme=dark] .colab-df-convert {\n",
              "      background-color: #3B4455;\n",
              "      fill: #D2E3FC;\n",
              "    }\n",
              "\n",
              "    [theme=dark] .colab-df-convert:hover {\n",
              "      background-color: #434B5C;\n",
              "      box-shadow: 0px 1px 3px 1px rgba(0, 0, 0, 0.15);\n",
              "      filter: drop-shadow(0px 1px 2px rgba(0, 0, 0, 0.3));\n",
              "      fill: #FFFFFF;\n",
              "    }\n",
              "  </style>\n",
              "\n",
              "    <script>\n",
              "      const buttonEl =\n",
              "        document.querySelector('#df-9417e493-df8c-405b-bdfd-a730057bec3a button.colab-df-convert');\n",
              "      buttonEl.style.display =\n",
              "        google.colab.kernel.accessAllowed ? 'block' : 'none';\n",
              "\n",
              "      async function convertToInteractive(key) {\n",
              "        const element = document.querySelector('#df-9417e493-df8c-405b-bdfd-a730057bec3a');\n",
              "        const dataTable =\n",
              "          await google.colab.kernel.invokeFunction('convertToInteractive',\n",
              "                                                    [key], {});\n",
              "        if (!dataTable) return;\n",
              "\n",
              "        const docLinkHtml = 'Like what you see? Visit the ' +\n",
              "          '<a target=\"_blank\" href=https://colab.research.google.com/notebooks/data_table.ipynb>data table notebook</a>'\n",
              "          + ' to learn more about interactive tables.';\n",
              "        element.innerHTML = '';\n",
              "        dataTable['output_type'] = 'display_data';\n",
              "        await google.colab.output.renderOutput(dataTable, element);\n",
              "        const docLink = document.createElement('div');\n",
              "        docLink.innerHTML = docLinkHtml;\n",
              "        element.appendChild(docLink);\n",
              "      }\n",
              "    </script>\n",
              "  </div>\n",
              "\n",
              "\n",
              "<div id=\"df-e5766765-2ae8-49d3-b9ba-42609e21ca5f\">\n",
              "  <button class=\"colab-df-quickchart\" onclick=\"quickchart('df-e5766765-2ae8-49d3-b9ba-42609e21ca5f')\"\n",
              "            title=\"Suggest charts\"\n",
              "            style=\"display:none;\">\n",
              "\n",
              "<svg xmlns=\"http://www.w3.org/2000/svg\" height=\"24px\"viewBox=\"0 0 24 24\"\n",
              "     width=\"24px\">\n",
              "    <g>\n",
              "        <path d=\"M19 3H5c-1.1 0-2 .9-2 2v14c0 1.1.9 2 2 2h14c1.1 0 2-.9 2-2V5c0-1.1-.9-2-2-2zM9 17H7v-7h2v7zm4 0h-2V7h2v10zm4 0h-2v-4h2v4z\"/>\n",
              "    </g>\n",
              "</svg>\n",
              "  </button>\n",
              "\n",
              "<style>\n",
              "  .colab-df-quickchart {\n",
              "      --bg-color: #E8F0FE;\n",
              "      --fill-color: #1967D2;\n",
              "      --hover-bg-color: #E2EBFA;\n",
              "      --hover-fill-color: #174EA6;\n",
              "      --disabled-fill-color: #AAA;\n",
              "      --disabled-bg-color: #DDD;\n",
              "  }\n",
              "\n",
              "  [theme=dark] .colab-df-quickchart {\n",
              "      --bg-color: #3B4455;\n",
              "      --fill-color: #D2E3FC;\n",
              "      --hover-bg-color: #434B5C;\n",
              "      --hover-fill-color: #FFFFFF;\n",
              "      --disabled-bg-color: #3B4455;\n",
              "      --disabled-fill-color: #666;\n",
              "  }\n",
              "\n",
              "  .colab-df-quickchart {\n",
              "    background-color: var(--bg-color);\n",
              "    border: none;\n",
              "    border-radius: 50%;\n",
              "    cursor: pointer;\n",
              "    display: none;\n",
              "    fill: var(--fill-color);\n",
              "    height: 32px;\n",
              "    padding: 0;\n",
              "    width: 32px;\n",
              "  }\n",
              "\n",
              "  .colab-df-quickchart:hover {\n",
              "    background-color: var(--hover-bg-color);\n",
              "    box-shadow: 0 1px 2px rgba(60, 64, 67, 0.3), 0 1px 3px 1px rgba(60, 64, 67, 0.15);\n",
              "    fill: var(--button-hover-fill-color);\n",
              "  }\n",
              "\n",
              "  .colab-df-quickchart-complete:disabled,\n",
              "  .colab-df-quickchart-complete:disabled:hover {\n",
              "    background-color: var(--disabled-bg-color);\n",
              "    fill: var(--disabled-fill-color);\n",
              "    box-shadow: none;\n",
              "  }\n",
              "\n",
              "  .colab-df-spinner {\n",
              "    border: 2px solid var(--fill-color);\n",
              "    border-color: transparent;\n",
              "    border-bottom-color: var(--fill-color);\n",
              "    animation:\n",
              "      spin 1s steps(1) infinite;\n",
              "  }\n",
              "\n",
              "  @keyframes spin {\n",
              "    0% {\n",
              "      border-color: transparent;\n",
              "      border-bottom-color: var(--fill-color);\n",
              "      border-left-color: var(--fill-color);\n",
              "    }\n",
              "    20% {\n",
              "      border-color: transparent;\n",
              "      border-left-color: var(--fill-color);\n",
              "      border-top-color: var(--fill-color);\n",
              "    }\n",
              "    30% {\n",
              "      border-color: transparent;\n",
              "      border-left-color: var(--fill-color);\n",
              "      border-top-color: var(--fill-color);\n",
              "      border-right-color: var(--fill-color);\n",
              "    }\n",
              "    40% {\n",
              "      border-color: transparent;\n",
              "      border-right-color: var(--fill-color);\n",
              "      border-top-color: var(--fill-color);\n",
              "    }\n",
              "    60% {\n",
              "      border-color: transparent;\n",
              "      border-right-color: var(--fill-color);\n",
              "    }\n",
              "    80% {\n",
              "      border-color: transparent;\n",
              "      border-right-color: var(--fill-color);\n",
              "      border-bottom-color: var(--fill-color);\n",
              "    }\n",
              "    90% {\n",
              "      border-color: transparent;\n",
              "      border-bottom-color: var(--fill-color);\n",
              "    }\n",
              "  }\n",
              "</style>\n",
              "\n",
              "  <script>\n",
              "    async function quickchart(key) {\n",
              "      const quickchartButtonEl =\n",
              "        document.querySelector('#' + key + ' button');\n",
              "      quickchartButtonEl.disabled = true;  // To prevent multiple clicks.\n",
              "      quickchartButtonEl.classList.add('colab-df-spinner');\n",
              "      try {\n",
              "        const charts = await google.colab.kernel.invokeFunction(\n",
              "            'suggestCharts', [key], {});\n",
              "      } catch (error) {\n",
              "        console.error('Error during call to suggestCharts:', error);\n",
              "      }\n",
              "      quickchartButtonEl.classList.remove('colab-df-spinner');\n",
              "      quickchartButtonEl.classList.add('colab-df-quickchart-complete');\n",
              "    }\n",
              "    (() => {\n",
              "      let quickchartButtonEl =\n",
              "        document.querySelector('#df-e5766765-2ae8-49d3-b9ba-42609e21ca5f button');\n",
              "      quickchartButtonEl.style.display =\n",
              "        google.colab.kernel.accessAllowed ? 'block' : 'none';\n",
              "    })();\n",
              "  </script>\n",
              "</div>\n",
              "    </div>\n",
              "  </div>\n"
            ]
          },
          "metadata": {},
          "execution_count": 32
        }
      ]
    },
    {
      "cell_type": "code",
      "source": [
        "print(\"Dataset size: \", len(poems_df))\n",
        "print(\"Dataset distinct labels: \", set(poems_df['Genre']))\n",
        "\n",
        "poems_df = poems_df.dropna()"
      ],
      "metadata": {
        "colab": {
          "base_uri": "https://localhost:8080/"
        },
        "id": "mqCABFOSpz3f",
        "outputId": "cc0193c2-f41f-452e-c9e6-510c212908ea"
      },
      "execution_count": 33,
      "outputs": [
        {
          "output_type": "stream",
          "name": "stdout",
          "text": [
            "Dataset size:  841\n",
            "Dataset distinct labels:  {'Environment', 'Death', 'Music', 'Affection'}\n"
          ]
        }
      ]
    },
    {
      "cell_type": "code",
      "source": [
        "string.punctuation"
      ],
      "metadata": {
        "colab": {
          "base_uri": "https://localhost:8080/",
          "height": 35
        },
        "id": "Bd0GgeYtpz52",
        "outputId": "bc5a938f-918a-441d-b47b-c0841ae4a6b3"
      },
      "execution_count": 34,
      "outputs": [
        {
          "output_type": "execute_result",
          "data": {
            "text/plain": [
              "'!\"#$%&\\'()*+,-./:;<=>?@[\\\\]^_`{|}~'"
            ],
            "application/vnd.google.colaboratory.intrinsic+json": {
              "type": "string"
            }
          },
          "metadata": {},
          "execution_count": 34
        }
      ]
    },
    {
      "cell_type": "code",
      "source": [
        "import nltk\n",
        "nltk.download('punkt')"
      ],
      "metadata": {
        "colab": {
          "base_uri": "https://localhost:8080/"
        },
        "id": "Iw1Yc7CiuE1w",
        "outputId": "251324c7-00c4-46d4-f520-47e1792592c7"
      },
      "execution_count": 40,
      "outputs": [
        {
          "output_type": "stream",
          "name": "stderr",
          "text": [
            "[nltk_data] Downloading package punkt to /root/nltk_data...\n",
            "[nltk_data]   Unzipping tokenizers/punkt.zip.\n"
          ]
        },
        {
          "output_type": "execute_result",
          "data": {
            "text/plain": [
              "True"
            ]
          },
          "metadata": {},
          "execution_count": 40
        }
      ]
    },
    {
      "cell_type": "code",
      "source": [
        "poems = poems_df['Poem'].to_list()\n",
        "\n",
        "cleaned_poems_tokens = []\n",
        "cleaned_poems = []\n",
        "\n",
        "for poem in poems:\n",
        "    # tokenize\n",
        "    tokens = word_tokenize(poem)\n",
        "\n",
        "    #remove stop words\n",
        "    stop_words = set(stopwords.words('english'))\n",
        "    filtered_tokens = [token for token in tokens if token.lower() not in stop_words]\n",
        "\n",
        "    #stemming\n",
        "    stemmer = SnowballStemmer('english')\n",
        "    stemmed_tokens = [stemmer.stem(token) for token in filtered_tokens]\n",
        "\n",
        "    # remove digits and punctuation\n",
        "    cleaned_tokens = [token for token in stemmed_tokens if not token.isdigit()\n",
        "                      and not token in string.punctuation\n",
        "                      and not token == '’']\n",
        "\n",
        "    # convert all tokens to lowercase\n",
        "    lowercase_tokens = [token.lower() for token in cleaned_tokens]\n",
        "\n",
        "    cleaned_poems_tokens.append(lowercase_tokens)\n",
        "    cleaned_poems.append(' '.join(lowercase_tokens))"
      ],
      "metadata": {
        "id": "nNLUfRYMpz87"
      },
      "execution_count": 41,
      "outputs": []
    },
    {
      "cell_type": "code",
      "source": [
        "print(f\"Token before cleaning {poems[0]}\")\n",
        "print(f\"Token after cleaning {cleaned_poems[0]}\")"
      ],
      "metadata": {
        "id": "sqUVTrWPqCe4",
        "colab": {
          "base_uri": "https://localhost:8080/"
        },
        "outputId": "f7ca6776-235d-48eb-c0ca-9b1efb355981"
      },
      "execution_count": 42,
      "outputs": [
        {
          "output_type": "stream",
          "name": "stdout",
          "text": [
            "Token before cleaning               In the thick brushthey spend the hottest part of the day,              soaking their hoovesin the trickle of mountain water              the ravine hoardson behalf of the oleander.           \n",
            "Token after cleaning thick brushthey spend hottest part day soak hoovesin trickl mountain water ravin hoardson behalf oleand\n"
          ]
        }
      ]
    },
    {
      "cell_type": "markdown",
      "source": [
        "# Bag of words"
      ],
      "metadata": {
        "id": "WX5IHMs_umqC"
      }
    },
    {
      "cell_type": "code",
      "source": [
        "# implementation using sklearn\n",
        "countvectorizer = CountVectorizer()\n",
        "\n",
        "X = countvectorizer.fit_transform(cleaned_poems)\n",
        "print(\"Tokens: \", countvectorizer.get_feature_names_out())\n",
        "print(\"First poem: \", X[0, :].toarray())"
      ],
      "metadata": {
        "colab": {
          "base_uri": "https://localhost:8080/"
        },
        "id": "KN8v79OUuqos",
        "outputId": "bf2a518f-b2d2-491d-ec60-7f7755289dc5"
      },
      "execution_count": 43,
      "outputs": [
        {
          "output_type": "stream",
          "name": "stdout",
          "text": [
            "Tokens:  ['00' '000' '10maggi' ... 'zithers' 'zoom' 'ȟe']\n",
            "First poem:  [[0 0 0 ... 0 0 0]]\n"
          ]
        }
      ]
    },
    {
      "cell_type": "code",
      "source": [
        "# manual implementation\n",
        "\n",
        "# any token is added to the the set features_names\n",
        "unique_words = set(word for poem in cleaned_poems for word in poem.split(' '))\n",
        "word_indices = {word: idx for idx, word in enumerate(unique_words)}\n",
        "\n",
        "N = len(cleaned_poems)\n",
        "\n",
        "# we create a matrix with dimensions len(cleaned_poems) x len(unique_words)\n",
        "n = len(unique_words)\n",
        "occurence_matrix = np.zeros(shape=[N, n])\n",
        "\n",
        "# iterate through sentences\n",
        "for i, poem in enumerate(cleaned_poems):\n",
        "    #iterate thorugh words\n",
        "    for word in poem.split(' '):\n",
        "        # get index of word -> go to the ith row and word index -> add 1 occurence\n",
        "        occurence_matrix[i][word_indices.get(word)] += 1"
      ],
      "metadata": {
        "id": "p_n-7QypqUJA"
      },
      "execution_count": 44,
      "outputs": []
    },
    {
      "cell_type": "markdown",
      "source": [
        "# TF IDF"
      ],
      "metadata": {
        "id": "0VUFinl1u0hA"
      }
    },
    {
      "cell_type": "code",
      "source": [
        "tfidfvectorizer = TfidfVectorizer()\n",
        "\n",
        "X = tfidfvectorizer.fit_transform(cleaned_poems)\n",
        "print(\"Tokens: \", tfidfvectorizer.get_feature_names_out())\n",
        "print(\"First poem: \", X[0, :].toarray())"
      ],
      "metadata": {
        "colab": {
          "base_uri": "https://localhost:8080/"
        },
        "id": "-LTw7Hd3u1sJ",
        "outputId": "b0aae64b-f6f9-4e5a-9a33-8f536e1902af"
      },
      "execution_count": 45,
      "outputs": [
        {
          "output_type": "stream",
          "name": "stdout",
          "text": [
            "Tokens:  ['00' '000' '10maggi' ... 'zithers' 'zoom' 'ȟe']\n",
            "First poem:  [[0. 0. 0. ... 0. 0. 0.]]\n"
          ]
        }
      ]
    },
    {
      "cell_type": "code",
      "source": [
        "N = len(cleaned_poems)\n",
        "\n",
        "unique_words = set(x for string in cleaned_poems for x in string.split(' '))\n",
        "word_indices = {word: idx for idx,word in enumerate(unique_words)}\n",
        "\n",
        "n = len(unique_words)\n",
        "tfidf = np.zeros(shape =(N, n))\n",
        "\n",
        "idf_dict = {}\n",
        "\n",
        "for i, doc in enumerate(cleaned_poems):\n",
        "    for word in doc.split(' '):\n",
        "        tf = sum([1\n",
        "                  for x in doc.split(' ')\n",
        "                  if x==word ]) / len(doc.split(' '))\n",
        "        if word not in idf_dict.keys():\n",
        "            idf = np.log(N / (sum([1\n",
        "                                   for doc in cleaned_poems\n",
        "                                   if word in doc]) ))\n",
        "            idf_dict[word] = idf\n",
        "        else:\n",
        "            idf = idf_dict.get(word)\n",
        "        tfidf[i][word_indices.get(word)] = tf * idf"
      ],
      "metadata": {
        "id": "9Gh-Fau6qWDv"
      },
      "execution_count": 46,
      "outputs": []
    },
    {
      "cell_type": "markdown",
      "source": [
        "# Word Embeddings"
      ],
      "metadata": {
        "id": "347kpyaju9_G"
      }
    },
    {
      "cell_type": "code",
      "source": [
        "word2vec_model = Word2Vec(sentences=cleaned_poems_tokens, min_count=1,vector_size=256,workers=4)"
      ],
      "metadata": {
        "id": "vKznIGlWqds4"
      },
      "execution_count": 47,
      "outputs": []
    },
    {
      "cell_type": "code",
      "source": [
        "# get vector for the word day\n",
        "word2vec_model.wv['day']"
      ],
      "metadata": {
        "colab": {
          "base_uri": "https://localhost:8080/"
        },
        "id": "MHKNDLB0vDwa",
        "outputId": "5d40c05d-ab39-4ec8-e473-b716d6a27425"
      },
      "execution_count": 48,
      "outputs": [
        {
          "output_type": "execute_result",
          "data": {
            "text/plain": [
              "array([-2.1482459e-03, -7.1942899e-04,  2.1145211e-03,  2.7396015e-03,\n",
              "        8.3884336e-03,  1.0802037e-03,  3.8298909e-04, -1.2815304e-03,\n",
              "        1.8983154e-03,  5.8326148e-03,  1.5114982e-03,  1.0367922e-03,\n",
              "        1.2336056e-03, -5.3333249e-03, -1.4277099e-03,  2.4967007e-03,\n",
              "        5.3085055e-04,  5.0373393e-04, -7.4451328e-03,  8.6177271e-03,\n",
              "       -1.2572737e-03, -3.3987197e-03, -2.8812063e-03, -5.1330547e-03,\n",
              "       -7.8817615e-03,  1.6567918e-03, -2.5350952e-03, -6.8371417e-04,\n",
              "       -3.7743626e-03,  1.4064010e-04,  4.7581038e-03,  1.5525005e-03,\n",
              "       -2.4222052e-03, -6.8619923e-04,  2.7890790e-03,  5.4956409e-03,\n",
              "       -2.5214109e-04, -4.0099216e-03,  1.5505055e-03, -9.7555853e-04,\n",
              "       -6.3386597e-03,  4.5747431e-03, -3.6611338e-03, -4.6302588e-03,\n",
              "        6.8666809e-03, -3.4133403e-03,  2.1120028e-03,  1.5128995e-03,\n",
              "        1.0669096e-03,  4.2499760e-03,  2.0155229e-04,  4.4883075e-03,\n",
              "        3.2189898e-03, -1.0341991e-03, -6.4875763e-03,  4.1197415e-04,\n",
              "        4.0593939e-03, -1.5163760e-06,  3.3757708e-03,  6.4813346e-03,\n",
              "       -6.5080808e-03,  2.6524521e-03, -2.7116737e-03,  2.6824600e-03,\n",
              "        5.9393542e-03,  1.2086493e-04,  1.4797321e-03,  3.2524592e-03,\n",
              "       -2.4974996e-03,  1.7382570e-03, -7.3290907e-04, -2.1612337e-03,\n",
              "       -3.5197983e-04, -5.6260298e-03,  2.1579813e-03, -3.6442892e-03,\n",
              "        2.8170536e-03,  3.5294320e-04, -5.3560693e-04,  5.0107152e-03,\n",
              "       -1.5745156e-03, -6.7110728e-03,  1.8383024e-03,  6.6348352e-03,\n",
              "       -2.0350295e-03,  3.2964058e-03,  5.7312069e-03, -3.2996545e-03,\n",
              "       -2.9152527e-03, -2.6624696e-04,  2.5640961e-03, -4.5530284e-03,\n",
              "       -6.9031253e-04, -4.8562316e-03, -9.1598305e-04,  9.8957098e-04,\n",
              "       -5.4586222e-03, -5.2927537e-03,  7.0765636e-05, -5.7998714e-03,\n",
              "       -8.4782634e-03, -4.1801683e-03, -2.6630936e-03,  3.2876171e-03,\n",
              "        2.2805599e-03,  1.6107103e-03, -9.7480201e-04, -1.9252688e-03,\n",
              "        2.3712276e-03, -2.0326276e-03,  2.5227393e-03, -2.4170885e-03,\n",
              "        2.6393111e-03,  1.9738977e-03, -3.8877891e-03, -2.5061669e-03,\n",
              "       -1.7084759e-03,  2.0152135e-03,  1.1231746e-03,  3.3576433e-03,\n",
              "       -2.0676833e-03, -4.7333254e-03,  5.5865124e-03,  3.7378515e-04,\n",
              "       -3.1725492e-03,  3.3986897e-03,  4.2499122e-03, -2.7961608e-03,\n",
              "        3.6934663e-03,  9.6758187e-04, -2.4962882e-03, -7.4224628e-04,\n",
              "        1.4681292e-04, -2.0794965e-04, -9.6310989e-04, -1.9721892e-03,\n",
              "        1.0749723e-03,  2.2754243e-03,  3.8702802e-03, -1.6258755e-03,\n",
              "       -4.2220368e-03,  3.1235476e-03,  5.4506618e-03,  6.8431930e-03,\n",
              "       -9.8264078e-03, -1.8942315e-04, -3.9548576e-03,  3.6840164e-03,\n",
              "        4.1826358e-03,  3.5070803e-03, -2.0511446e-03, -1.9600815e-03,\n",
              "       -4.0437574e-03,  4.4223717e-03, -6.0209027e-03,  2.1758291e-04,\n",
              "        1.7150597e-03,  4.6476461e-03, -4.9307421e-03, -1.9734225e-03,\n",
              "        6.6631334e-03,  7.5879827e-04, -1.4088517e-03, -2.6642068e-03,\n",
              "        4.1721766e-03,  1.5877521e-03, -1.5084711e-05,  3.4280585e-03,\n",
              "        1.6773811e-04,  2.2515967e-03,  1.8607264e-03, -3.3293420e-03,\n",
              "       -4.1859210e-03, -9.5475995e-04, -6.5058791e-03, -9.1283559e-04,\n",
              "       -3.0063426e-03, -1.2094904e-03,  9.2216469e-03, -2.8988845e-03,\n",
              "        1.8908074e-03,  2.1438182e-03,  1.2342320e-03,  3.1957820e-03,\n",
              "        7.2140037e-03, -3.7589119e-04, -7.0824665e-03, -3.9309068e-03,\n",
              "       -7.3897298e-03, -9.9178310e-04,  2.8334101e-04, -3.8670709e-03,\n",
              "        4.0497631e-03, -2.5834976e-04,  4.9492777e-03, -3.4718155e-03,\n",
              "       -1.7991217e-03, -3.0022415e-03, -2.0468275e-03,  1.4263928e-03,\n",
              "       -5.0921072e-03,  1.8469283e-03,  4.3120902e-04,  2.0402385e-04,\n",
              "       -2.4911757e-03,  4.4509219e-03, -9.4372556e-03, -1.3843394e-03,\n",
              "       -2.5799265e-03, -8.6748565e-04, -1.1854928e-03, -1.3179018e-03,\n",
              "        2.0232764e-03, -1.9499147e-04,  9.4537775e-04,  1.3502406e-04,\n",
              "        2.0740600e-03,  5.7390733e-03, -4.5791664e-03, -6.5899017e-04,\n",
              "       -3.6921306e-03, -8.6272869e-04,  4.8502353e-03, -3.3539056e-03,\n",
              "       -3.1475743e-04,  4.1531026e-04,  2.0531354e-04, -1.4630109e-03,\n",
              "       -8.8056515e-04, -1.7638567e-03, -2.2459289e-03, -2.4689056e-03,\n",
              "       -9.7602699e-04,  7.3965313e-04,  1.3156921e-03,  6.4563104e-03,\n",
              "       -3.3906694e-03, -1.8396925e-03,  2.2088999e-03,  3.0209648e-04,\n",
              "       -3.3457014e-03,  8.2847965e-04,  3.2525517e-03, -1.0375800e-03,\n",
              "       -3.5460130e-03, -1.0871480e-03,  5.6489664e-03,  3.0819140e-03,\n",
              "       -1.0214278e-03, -5.7303975e-03, -3.8534130e-03,  2.9947767e-03,\n",
              "        1.4983767e-04, -5.0082617e-03, -8.3115641e-03,  7.6730258e-04],\n",
              "      dtype=float32)"
            ]
          },
          "metadata": {},
          "execution_count": 48
        }
      ]
    },
    {
      "cell_type": "code",
      "source": [
        "word2vec_model.wv.most_similar('day')"
      ],
      "metadata": {
        "colab": {
          "base_uri": "https://localhost:8080/"
        },
        "id": "mFpLqVDJvJJL",
        "outputId": "e8ea7a41-d689-4d04-a0ad-d23b2c983393"
      },
      "execution_count": 49,
      "outputs": [
        {
          "output_type": "execute_result",
          "data": {
            "text/plain": [
              "[('like', 0.6322932839393616),\n",
              " (\"'s\", 0.6037131547927856),\n",
              " ('one', 0.6028529405593872),\n",
              " ('thing', 0.5863050222396851),\n",
              " ('us', 0.5651578903198242),\n",
              " ('leav', 0.5567163228988647),\n",
              " ('air', 0.5560057163238525),\n",
              " ('water', 0.5543666481971741),\n",
              " ('dark', 0.5540421009063721),\n",
              " ('tree', 0.5534077286720276)]"
            ]
          },
          "metadata": {},
          "execution_count": 49
        }
      ]
    }
  ]
}